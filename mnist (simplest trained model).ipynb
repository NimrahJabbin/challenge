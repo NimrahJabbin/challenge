{
 "cells": [
  {
   "cell_type": "code",
   "execution_count": 61,
   "metadata": {},
   "outputs": [],
   "source": [
    "from keras.datasets import mnist\n",
    "\n",
    "(train_images, train_labels), (test_images, test_labels) = mnist.load_data()\n"
   ]
  },
  {
   "cell_type": "markdown",
   "metadata": {},
   "source": [
    "# How train and test data is splitted"
   ]
  },
  {
   "cell_type": "code",
   "execution_count": 62,
   "metadata": {},
   "outputs": [],
   "source": [
    "# def load_data(path='mnist.npz'):\n",
    "#     path = get_file(path, origin='https://s3.amazonaws.com/img-datasets/mnist.npz',file_hash='8a61469f7ea1b51cbae51d4f78837e45')\n",
    "#     with np.load(path, allow_pickle=True) as f:\n",
    "#         x_train, y_train = f['x_train'], f['y_train']\n",
    "#         x_test, y_test = f['x_test'], f['y_test']\n",
    "#     return (x_train, y_train), (x_test, y_test)"
   ]
  },
  {
   "cell_type": "code",
   "execution_count": null,
   "metadata": {},
   "outputs": [],
   "source": [
    "train_images"
   ]
  },
  {
   "cell_type": "code",
   "execution_count": 64,
   "metadata": {
    "scrolled": true
   },
   "outputs": [
    {
     "data": {
      "text/plain": [
       "60000"
      ]
     },
     "execution_count": 64,
     "metadata": {},
     "output_type": "execute_result"
    }
   ],
   "source": [
    "len(train_labels)"
   ]
  },
  {
   "cell_type": "code",
   "execution_count": 65,
   "metadata": {},
   "outputs": [
    {
     "data": {
      "text/plain": [
       "0"
      ]
     },
     "execution_count": 65,
     "metadata": {},
     "output_type": "execute_result"
    }
   ],
   "source": [
    "train_labels[1]"
   ]
  },
  {
   "cell_type": "code",
   "execution_count": 66,
   "metadata": {},
   "outputs": [],
   "source": [
    "# Import necessary packages\n",
    "\n",
    "%matplotlib inline\n",
    "%config InlineBackend.figure_format = 'retina'\n",
    "\n",
    "import numpy as np\n",
    "import torch\n",
    "\n",
    "\n",
    "\n",
    "import matplotlib.pyplot as plt"
   ]
  },
  {
   "cell_type": "code",
   "execution_count": 67,
   "metadata": {},
   "outputs": [
    {
     "data": {
      "text/plain": [
       "<matplotlib.image.AxesImage at 0x2b7d4f799b0>"
      ]
     },
     "execution_count": 67,
     "metadata": {},
     "output_type": "execute_result"
    },
    {
     "data": {
      "image/png": "[encoded data removed]",
      "text/plain": [
       "<Figure size 432x288 with 1 Axes>"
      ]
     },
     "metadata": {
      "image/png": {
       "height": 250,
       "width": 253
      },
      "needs_background": "light"
     },
     "output_type": "display_data"
    }
   ],
   "source": [
    "plt.imshow(test_images[1])"
   ]
  },
  {
   "cell_type": "code",
   "execution_count": 68,
   "metadata": {},
   "outputs": [
    {
     "data": {
      "text/plain": [
       "<matplotlib.image.AxesImage at 0x2b7e083e048>"
      ]
     },
     "execution_count": 68,
     "metadata": {},
     "output_type": "execute_result"
    },
    {
     "data": {
      "image/png": "[encoded data removed]",
      "text/plain": [
       "<Figure size 432x288 with 1 Axes>"
      ]
     },
     "metadata": {
      "image/png": {
       "height": 250,
       "width": 253
      },
      "needs_background": "light"
     },
     "output_type": "display_data"
    }
   ],
   "source": [
    "plt.imshow(train_images[1])"
   ]
  },
  {
   "cell_type": "code",
   "execution_count": 69,
   "metadata": {},
   "outputs": [
    {
     "data": {
      "text/plain": [
       "<matplotlib.image.AxesImage at 0x2b7d8dc76d8>"
      ]
     },
     "execution_count": 69,
     "metadata": {},
     "output_type": "execute_result"
    },
    {
     "data": {
      "image/png": "[encoded data removed]",
      "text/plain": [
       "<Figure size 432x288 with 1 Axes>"
      ]
     },
     "metadata": {
      "image/png": {
       "height": 250,
       "width": 253
      },
      "needs_background": "light"
     },
     "output_type": "display_data"
    }
   ],
   "source": [
    "plt.imshow(train_images[1],cmap='Greys_r')#.numpy().squeeze(), cmap='Greys_r');"
   ]
  },
  {
   "cell_type": "code",
   "execution_count": 70,
   "metadata": {},
   "outputs": [
    {
     "name": "stdout",
     "output_type": "stream",
     "text": [
      "(60000, 28, 28)\n",
      "10000\n",
      "[5 0 4 ... 5 6 8]\n"
     ]
    }
   ],
   "source": [
    "print(train_images.shape)   #(no of images in training set,28rows,28columns)means image of pixel 28x28\n",
    "print(len(test_labels)) \n",
    "print(train_labels)"
   ]
  },
  {
   "cell_type": "code",
   "execution_count": 71,
   "metadata": {},
   "outputs": [
    {
     "name": "stdout",
     "output_type": "stream",
     "text": [
      "(10000, 28, 28)\n",
      "10000\n",
      "[7 2 1 ... 4 5 6]\n"
     ]
    }
   ],
   "source": [
    "print(test_images.shape)\n",
    "print(len(test_labels)) \n",
    "print(test_labels)\n"
   ]
  },
  {
   "cell_type": "code",
   "execution_count": 72,
   "metadata": {},
   "outputs": [],
   "source": [
    "from keras import models \n",
    "from keras import layers\n",
    "\n",
    "network = models.Sequential()\n",
    "\n",
    "network.add(layers.Dense(512, activation='relu', input_shape=(28 * 28,)))\n",
    "network.add(layers.Dense(10, activation='softmax'))\n"
   ]
  },
  {
   "cell_type": "code",
   "execution_count": 73,
   "metadata": {},
   "outputs": [],
   "source": [
    "network.compile(optimizer='rmsprop',\n",
    "                loss='categorical_crossentropy',\n",
    "                metrics=['accuracy'])\n",
    "\n"
   ]
  },
  {
   "cell_type": "code",
   "execution_count": 74,
   "metadata": {},
   "outputs": [
    {
     "data": {
      "text/plain": [
       "32.0"
      ]
     },
     "execution_count": 74,
     "metadata": {},
     "output_type": "execute_result"
    }
   ],
   "source": [
    "float(32)"
   ]
  },
  {
   "cell_type": "code",
   "execution_count": 75,
   "metadata": {
    "collapsed": true
   },
   "outputs": [
    {
     "data": {
      "text/plain": [
       "array([[  0,   0,   0,   0,   0,   0,   0,   0,   0,   0,   0,   0,   0,\n",
       "          0,   0,   0,   0,   0,   0,   0,   0,   0,   0,   0,   0,   0,\n",
       "          0,   0],\n",
       "       [  0,   0,   0,   0,   0,   0,   0,   0,   0,   0,   0,   0,   0,\n",
       "          0,   0,   0,   0,   0,   0,   0,   0,   0,   0,   0,   0,   0,\n",
       "          0,   0],\n",
       "       [  0,   0,   0,   0,   0,   0,   0,   0,   0,   0,   0,   0,   0,\n",
       "          0,   0,   0,   0,   0,   0,   0,   0,   0,   0,   0,   0,   0,\n",
       "          0,   0],\n",
       "       [  0,   0,   0,   0,   0,   0,   0,   0,   0,   0,   0,   0,   0,\n",
       "          0,   0,   0,   0,   0,   0,   0,   0,   0,   0,   0,   0,   0,\n",
       "          0,   0],\n",
       "       [  0,   0,   0,   0,   0,   0,   0,   0,   0,   0,   0,   0,   0,\n",
       "          0,   0,  51, 159, 253, 159,  50,   0,   0,   0,   0,   0,   0,\n",
       "          0,   0],\n",
       "       [  0,   0,   0,   0,   0,   0,   0,   0,   0,   0,   0,   0,   0,\n",
       "          0,  48, 238, 252, 252, 252, 237,   0,   0,   0,   0,   0,   0,\n",
       "          0,   0],\n",
       "       [  0,   0,   0,   0,   0,   0,   0,   0,   0,   0,   0,   0,   0,\n",
       "         54, 227, 253, 252, 239, 233, 252,  57,   6,   0,   0,   0,   0,\n",
       "          0,   0],\n",
       "       [  0,   0,   0,   0,   0,   0,   0,   0,   0,   0,   0,  10,  60,\n",
       "        224, 252, 253, 252, 202,  84, 252, 253, 122,   0,   0,   0,   0,\n",
       "          0,   0],\n",
       "       [  0,   0,   0,   0,   0,   0,   0,   0,   0,   0,   0, 163, 252,\n",
       "        252, 252, 253, 252, 252,  96, 189, 253, 167,   0,   0,   0,   0,\n",
       "          0,   0],\n",
       "       [  0,   0,   0,   0,   0,   0,   0,   0,   0,   0,  51, 238, 253,\n",
       "        253, 190, 114, 253, 228,  47,  79, 255, 168,   0,   0,   0,   0,\n",
       "          0,   0],\n",
       "       [  0,   0,   0,   0,   0,   0,   0,   0,   0,  48, 238, 252, 252,\n",
       "        179,  12,  75, 121,  21,   0,   0, 253, 243,  50,   0,   0,   0,\n",
       "          0,   0],\n",
       "       [  0,   0,   0,   0,   0,   0,   0,   0,  38, 165, 253, 233, 208,\n",
       "         84,   0,   0,   0,   0,   0,   0, 253, 252, 165,   0,   0,   0,\n",
       "          0,   0],\n",
       "       [  0,   0,   0,   0,   0,   0,   0,   7, 178, 252, 240,  71,  19,\n",
       "         28,   0,   0,   0,   0,   0,   0, 253, 252, 195,   0,   0,   0,\n",
       "          0,   0],\n",
       "       [  0,   0,   0,   0,   0,   0,   0,  57, 252, 252,  63,   0,   0,\n",
       "          0,   0,   0,   0,   0,   0,   0, 253, 252, 195,   0,   0,   0,\n",
       "          0,   0],\n",
       "       [  0,   0,   0,   0,   0,   0,   0, 198, 253, 190,   0,   0,   0,\n",
       "          0,   0,   0,   0,   0,   0,   0, 255, 253, 196,   0,   0,   0,\n",
       "          0,   0],\n",
       "       [  0,   0,   0,   0,   0,   0,  76, 246, 252, 112,   0,   0,   0,\n",
       "          0,   0,   0,   0,   0,   0,   0, 253, 252, 148,   0,   0,   0,\n",
       "          0,   0],\n",
       "       [  0,   0,   0,   0,   0,   0,  85, 252, 230,  25,   0,   0,   0,\n",
       "          0,   0,   0,   0,   0,   7, 135, 253, 186,  12,   0,   0,   0,\n",
       "          0,   0],\n",
       "       [  0,   0,   0,   0,   0,   0,  85, 252, 223,   0,   0,   0,   0,\n",
       "          0,   0,   0,   0,   7, 131, 252, 225,  71,   0,   0,   0,   0,\n",
       "          0,   0],\n",
       "       [  0,   0,   0,   0,   0,   0,  85, 252, 145,   0,   0,   0,   0,\n",
       "          0,   0,   0,  48, 165, 252, 173,   0,   0,   0,   0,   0,   0,\n",
       "          0,   0],\n",
       "       [  0,   0,   0,   0,   0,   0,  86, 253, 225,   0,   0,   0,   0,\n",
       "          0,   0, 114, 238, 253, 162,   0,   0,   0,   0,   0,   0,   0,\n",
       "          0,   0],\n",
       "       [  0,   0,   0,   0,   0,   0,  85, 252, 249, 146,  48,  29,  85,\n",
       "        178, 225, 253, 223, 167,  56,   0,   0,   0,   0,   0,   0,   0,\n",
       "          0,   0],\n",
       "       [  0,   0,   0,   0,   0,   0,  85, 252, 252, 252, 229, 215, 252,\n",
       "        252, 252, 196, 130,   0,   0,   0,   0,   0,   0,   0,   0,   0,\n",
       "          0,   0],\n",
       "       [  0,   0,   0,   0,   0,   0,  28, 199, 252, 252, 253, 252, 252,\n",
       "        233, 145,   0,   0,   0,   0,   0,   0,   0,   0,   0,   0,   0,\n",
       "          0,   0],\n",
       "       [  0,   0,   0,   0,   0,   0,   0,  25, 128, 252, 253, 252, 141,\n",
       "         37,   0,   0,   0,   0,   0,   0,   0,   0,   0,   0,   0,   0,\n",
       "          0,   0],\n",
       "       [  0,   0,   0,   0,   0,   0,   0,   0,   0,   0,   0,   0,   0,\n",
       "          0,   0,   0,   0,   0,   0,   0,   0,   0,   0,   0,   0,   0,\n",
       "          0,   0],\n",
       "       [  0,   0,   0,   0,   0,   0,   0,   0,   0,   0,   0,   0,   0,\n",
       "          0,   0,   0,   0,   0,   0,   0,   0,   0,   0,   0,   0,   0,\n",
       "          0,   0],\n",
       "       [  0,   0,   0,   0,   0,   0,   0,   0,   0,   0,   0,   0,   0,\n",
       "          0,   0,   0,   0,   0,   0,   0,   0,   0,   0,   0,   0,   0,\n",
       "          0,   0],\n",
       "       [  0,   0,   0,   0,   0,   0,   0,   0,   0,   0,   0,   0,   0,\n",
       "          0,   0,   0,   0,   0,   0,   0,   0,   0,   0,   0,   0,   0,\n",
       "          0,   0]], dtype=uint8)"
      ]
     },
     "execution_count": 75,
     "metadata": {},
     "output_type": "execute_result"
    }
   ],
   "source": [
    "train_images[1]"
   ]
  },
  {
   "cell_type": "code",
   "execution_count": 76,
   "metadata": {
    "collapsed": true
   },
   "outputs": [
    {
     "data": {
      "text/plain": [
       "array([[0.        , 0.        , 0.        , 0.        , 0.        ,\n",
       "        0.        , 0.        , 0.        , 0.        , 0.        ,\n",
       "        0.        , 0.        , 0.        , 0.        , 0.        ,\n",
       "        0.        , 0.        , 0.        , 0.        , 0.        ,\n",
       "        0.        , 0.        , 0.        , 0.        , 0.        ,\n",
       "        0.        , 0.        , 0.        ],\n",
       "       [0.        , 0.        , 0.        , 0.        , 0.        ,\n",
       "        0.        , 0.        , 0.        , 0.        , 0.        ,\n",
       "        0.        , 0.        , 0.        , 0.        , 0.        ,\n",
       "        0.        , 0.        , 0.        , 0.        , 0.        ,\n",
       "        0.        , 0.        , 0.        , 0.        , 0.        ,\n",
       "        0.        , 0.        , 0.        ],\n",
       "       [0.        , 0.        , 0.        , 0.        , 0.        ,\n",
       "        0.        , 0.        , 0.        , 0.        , 0.        ,\n",
       "        0.        , 0.        , 0.        , 0.        , 0.        ,\n",
       "        0.        , 0.        , 0.        , 0.        , 0.        ,\n",
       "        0.        , 0.        , 0.        , 0.        , 0.        ,\n",
       "        0.        , 0.        , 0.        ],\n",
       "       [0.        , 0.        , 0.        , 0.        , 0.        ,\n",
       "        0.        , 0.        , 0.        , 0.        , 0.        ,\n",
       "        0.        , 0.        , 0.        , 0.        , 0.        ,\n",
       "        0.        , 0.        , 0.        , 0.        , 0.        ,\n",
       "        0.        , 0.        , 0.        , 0.        , 0.        ,\n",
       "        0.        , 0.        , 0.        ],\n",
       "       [0.        , 0.        , 0.        , 0.        , 0.        ,\n",
       "        0.        , 0.        , 0.        , 0.        , 0.        ,\n",
       "        0.        , 0.        , 0.        , 0.        , 0.        ,\n",
       "        0.2       , 0.62352943, 0.99215686, 0.62352943, 0.19607843,\n",
       "        0.        , 0.        , 0.        , 0.        , 0.        ,\n",
       "        0.        , 0.        , 0.        ],\n",
       "       [0.        , 0.        , 0.        , 0.        , 0.        ,\n",
       "        0.        , 0.        , 0.        , 0.        , 0.        ,\n",
       "        0.        , 0.        , 0.        , 0.        , 0.1882353 ,\n",
       "        0.93333334, 0.9882353 , 0.9882353 , 0.9882353 , 0.92941177,\n",
       "        0.        , 0.        , 0.        , 0.        , 0.        ,\n",
       "        0.        , 0.        , 0.        ],\n",
       "       [0.        , 0.        , 0.        , 0.        , 0.        ,\n",
       "        0.        , 0.        , 0.        , 0.        , 0.        ,\n",
       "        0.        , 0.        , 0.        , 0.21176471, 0.8901961 ,\n",
       "        0.99215686, 0.9882353 , 0.9372549 , 0.9137255 , 0.9882353 ,\n",
       "        0.22352941, 0.02352941, 0.        , 0.        , 0.        ,\n",
       "        0.        , 0.        , 0.        ],\n",
       "       [0.        , 0.        , 0.        , 0.        , 0.        ,\n",
       "        0.        , 0.        , 0.        , 0.        , 0.        ,\n",
       "        0.        , 0.03921569, 0.23529412, 0.8784314 , 0.9882353 ,\n",
       "        0.99215686, 0.9882353 , 0.7921569 , 0.32941177, 0.9882353 ,\n",
       "        0.99215686, 0.47843137, 0.        , 0.        , 0.        ,\n",
       "        0.        , 0.        , 0.        ],\n",
       "       [0.        , 0.        , 0.        , 0.        , 0.        ,\n",
       "        0.        , 0.        , 0.        , 0.        , 0.        ,\n",
       "        0.        , 0.6392157 , 0.9882353 , 0.9882353 , 0.9882353 ,\n",
       "        0.99215686, 0.9882353 , 0.9882353 , 0.3764706 , 0.7411765 ,\n",
       "        0.99215686, 0.654902  , 0.        , 0.        , 0.        ,\n",
       "        0.        , 0.        , 0.        ],\n",
       "       [0.        , 0.        , 0.        , 0.        , 0.        ,\n",
       "        0.        , 0.        , 0.        , 0.        , 0.        ,\n",
       "        0.2       , 0.93333334, 0.99215686, 0.99215686, 0.74509805,\n",
       "        0.44705883, 0.99215686, 0.89411765, 0.18431373, 0.30980393,\n",
       "        1.        , 0.65882355, 0.        , 0.        , 0.        ,\n",
       "        0.        , 0.        , 0.        ],\n",
       "       [0.        , 0.        , 0.        , 0.        , 0.        ,\n",
       "        0.        , 0.        , 0.        , 0.        , 0.1882353 ,\n",
       "        0.93333334, 0.9882353 , 0.9882353 , 0.7019608 , 0.04705882,\n",
       "        0.29411766, 0.4745098 , 0.08235294, 0.        , 0.        ,\n",
       "        0.99215686, 0.9529412 , 0.19607843, 0.        , 0.        ,\n",
       "        0.        , 0.        , 0.        ],\n",
       "       [0.        , 0.        , 0.        , 0.        , 0.        ,\n",
       "        0.        , 0.        , 0.        , 0.14901961, 0.64705884,\n",
       "        0.99215686, 0.9137255 , 0.8156863 , 0.32941177, 0.        ,\n",
       "        0.        , 0.        , 0.        , 0.        , 0.        ,\n",
       "        0.99215686, 0.9882353 , 0.64705884, 0.        , 0.        ,\n",
       "        0.        , 0.        , 0.        ],\n",
       "       [0.        , 0.        , 0.        , 0.        , 0.        ,\n",
       "        0.        , 0.        , 0.02745098, 0.69803923, 0.9882353 ,\n",
       "        0.9411765 , 0.2784314 , 0.07450981, 0.10980392, 0.        ,\n",
       "        0.        , 0.        , 0.        , 0.        , 0.        ,\n",
       "        0.99215686, 0.9882353 , 0.7647059 , 0.        , 0.        ,\n",
       "        0.        , 0.        , 0.        ],\n",
       "       [0.        , 0.        , 0.        , 0.        , 0.        ,\n",
       "        0.        , 0.        , 0.22352941, 0.9882353 , 0.9882353 ,\n",
       "        0.24705882, 0.        , 0.        , 0.        , 0.        ,\n",
       "        0.        , 0.        , 0.        , 0.        , 0.        ,\n",
       "        0.99215686, 0.9882353 , 0.7647059 , 0.        , 0.        ,\n",
       "        0.        , 0.        , 0.        ],\n",
       "       [0.        , 0.        , 0.        , 0.        , 0.        ,\n",
       "        0.        , 0.        , 0.7764706 , 0.99215686, 0.74509805,\n",
       "        0.        , 0.        , 0.        , 0.        , 0.        ,\n",
       "        0.        , 0.        , 0.        , 0.        , 0.        ,\n",
       "        1.        , 0.99215686, 0.76862746, 0.        , 0.        ,\n",
       "        0.        , 0.        , 0.        ],\n",
       "       [0.        , 0.        , 0.        , 0.        , 0.        ,\n",
       "        0.        , 0.29803923, 0.9647059 , 0.9882353 , 0.4392157 ,\n",
       "        0.        , 0.        , 0.        , 0.        , 0.        ,\n",
       "        0.        , 0.        , 0.        , 0.        , 0.        ,\n",
       "        0.99215686, 0.9882353 , 0.5803922 , 0.        , 0.        ,\n",
       "        0.        , 0.        , 0.        ],\n",
       "       [0.        , 0.        , 0.        , 0.        , 0.        ,\n",
       "        0.        , 0.33333334, 0.9882353 , 0.9019608 , 0.09803922,\n",
       "        0.        , 0.        , 0.        , 0.        , 0.        ,\n",
       "        0.        , 0.        , 0.        , 0.02745098, 0.5294118 ,\n",
       "        0.99215686, 0.7294118 , 0.04705882, 0.        , 0.        ,\n",
       "        0.        , 0.        , 0.        ],\n",
       "       [0.        , 0.        , 0.        , 0.        , 0.        ,\n",
       "        0.        , 0.33333334, 0.9882353 , 0.8745098 , 0.        ,\n",
       "        0.        , 0.        , 0.        , 0.        , 0.        ,\n",
       "        0.        , 0.        , 0.02745098, 0.5137255 , 0.9882353 ,\n",
       "        0.88235295, 0.2784314 , 0.        , 0.        , 0.        ,\n",
       "        0.        , 0.        , 0.        ],\n",
       "       [0.        , 0.        , 0.        , 0.        , 0.        ,\n",
       "        0.        , 0.33333334, 0.9882353 , 0.5686275 , 0.        ,\n",
       "        0.        , 0.        , 0.        , 0.        , 0.        ,\n",
       "        0.        , 0.1882353 , 0.64705884, 0.9882353 , 0.6784314 ,\n",
       "        0.        , 0.        , 0.        , 0.        , 0.        ,\n",
       "        0.        , 0.        , 0.        ],\n",
       "       [0.        , 0.        , 0.        , 0.        , 0.        ,\n",
       "        0.        , 0.3372549 , 0.99215686, 0.88235295, 0.        ,\n",
       "        0.        , 0.        , 0.        , 0.        , 0.        ,\n",
       "        0.44705883, 0.93333334, 0.99215686, 0.63529414, 0.        ,\n",
       "        0.        , 0.        , 0.        , 0.        , 0.        ,\n",
       "        0.        , 0.        , 0.        ],\n",
       "       [0.        , 0.        , 0.        , 0.        , 0.        ,\n",
       "        0.        , 0.33333334, 0.9882353 , 0.9764706 , 0.57254905,\n",
       "        0.1882353 , 0.11372549, 0.33333334, 0.69803923, 0.88235295,\n",
       "        0.99215686, 0.8745098 , 0.654902  , 0.21960784, 0.        ,\n",
       "        0.        , 0.        , 0.        , 0.        , 0.        ,\n",
       "        0.        , 0.        , 0.        ],\n",
       "       [0.        , 0.        , 0.        , 0.        , 0.        ,\n",
       "        0.        , 0.33333334, 0.9882353 , 0.9882353 , 0.9882353 ,\n",
       "        0.8980392 , 0.84313726, 0.9882353 , 0.9882353 , 0.9882353 ,\n",
       "        0.76862746, 0.50980395, 0.        , 0.        , 0.        ,\n",
       "        0.        , 0.        , 0.        , 0.        , 0.        ,\n",
       "        0.        , 0.        , 0.        ],\n",
       "       [0.        , 0.        , 0.        , 0.        , 0.        ,\n",
       "        0.        , 0.10980392, 0.78039217, 0.9882353 , 0.9882353 ,\n",
       "        0.99215686, 0.9882353 , 0.9882353 , 0.9137255 , 0.5686275 ,\n",
       "        0.        , 0.        , 0.        , 0.        , 0.        ,\n",
       "        0.        , 0.        , 0.        , 0.        , 0.        ,\n",
       "        0.        , 0.        , 0.        ],\n",
       "       [0.        , 0.        , 0.        , 0.        , 0.        ,\n",
       "        0.        , 0.        , 0.09803922, 0.5019608 , 0.9882353 ,\n",
       "        0.99215686, 0.9882353 , 0.5529412 , 0.14509805, 0.        ,\n",
       "        0.        , 0.        , 0.        , 0.        , 0.        ,\n",
       "        0.        , 0.        , 0.        , 0.        , 0.        ,\n",
       "        0.        , 0.        , 0.        ],\n",
       "       [0.        , 0.        , 0.        , 0.        , 0.        ,\n",
       "        0.        , 0.        , 0.        , 0.        , 0.        ,\n",
       "        0.        , 0.        , 0.        , 0.        , 0.        ,\n",
       "        0.        , 0.        , 0.        , 0.        , 0.        ,\n",
       "        0.        , 0.        , 0.        , 0.        , 0.        ,\n",
       "        0.        , 0.        , 0.        ],\n",
       "       [0.        , 0.        , 0.        , 0.        , 0.        ,\n",
       "        0.        , 0.        , 0.        , 0.        , 0.        ,\n",
       "        0.        , 0.        , 0.        , 0.        , 0.        ,\n",
       "        0.        , 0.        , 0.        , 0.        , 0.        ,\n",
       "        0.        , 0.        , 0.        , 0.        , 0.        ,\n",
       "        0.        , 0.        , 0.        ],\n",
       "       [0.        , 0.        , 0.        , 0.        , 0.        ,\n",
       "        0.        , 0.        , 0.        , 0.        , 0.        ,\n",
       "        0.        , 0.        , 0.        , 0.        , 0.        ,\n",
       "        0.        , 0.        , 0.        , 0.        , 0.        ,\n",
       "        0.        , 0.        , 0.        , 0.        , 0.        ,\n",
       "        0.        , 0.        , 0.        ],\n",
       "       [0.        , 0.        , 0.        , 0.        , 0.        ,\n",
       "        0.        , 0.        , 0.        , 0.        , 0.        ,\n",
       "        0.        , 0.        , 0.        , 0.        , 0.        ,\n",
       "        0.        , 0.        , 0.        , 0.        , 0.        ,\n",
       "        0.        , 0.        , 0.        , 0.        , 0.        ,\n",
       "        0.        , 0.        , 0.        ]], dtype=float32)"
      ]
     },
     "execution_count": 76,
     "metadata": {},
     "output_type": "execute_result"
    }
   ],
   "source": [
    "train_images[1].astype('float32')/255"
   ]
  },
  {
   "cell_type": "code",
   "execution_count": 77,
   "metadata": {
    "scrolled": true
   },
   "outputs": [
    {
     "data": {
      "text/plain": [
       "(60000, 28, 28)"
      ]
     },
     "execution_count": 77,
     "metadata": {},
     "output_type": "execute_result"
    }
   ],
   "source": [
    "train_images.shape     #this is 3D (plane,row,columns)"
   ]
  },
  {
   "cell_type": "code",
   "execution_count": 78,
   "metadata": {},
   "outputs": [],
   "source": [
    "#train_images.reshape(60000,784)"
   ]
  },
  {
   "cell_type": "code",
   "execution_count": 79,
   "metadata": {
    "collapsed": true
   },
   "outputs": [
    {
     "data": {
      "text/plain": [
       "array([[  0,   0,   0,   0,   0,   0,   0,   0,   0,   0,   0,   0,   0,\n",
       "          0,   0,   0,   0,   0,   0,   0,   0,   0,   0,   0,   0,   0,\n",
       "          0,   0],\n",
       "       [  0,   0,   0,   0,   0,   0,   0,   0,   0,   0,   0,   0,   0,\n",
       "          0,   0,   0,   0,   0,   0,   0,   0,   0,   0,   0,   0,   0,\n",
       "          0,   0],\n",
       "       [  0,   0,   0,   0,   0,   0,   0,   0,   0,   0,   0,   0,   0,\n",
       "          0,   0,   0,   0,   0,   0,   0,   0,   0,   0,   0,   0,   0,\n",
       "          0,   0],\n",
       "       [  0,   0,   0,   0,   0,   0,   0,   0,   0,   0,   0,   0,   0,\n",
       "          0,   0,   0,   0,   0,   0,   0,   0,   0,   0,   0,   0,   0,\n",
       "          0,   0],\n",
       "       [  0,   0,   0,   0,   0,   0,   0,   0,   0,   0,   0,   0,   0,\n",
       "          0,   0,  51, 159, 253, 159,  50,   0,   0,   0,   0,   0,   0,\n",
       "          0,   0],\n",
       "       [  0,   0,   0,   0,   0,   0,   0,   0,   0,   0,   0,   0,   0,\n",
       "          0,  48, 238, 252, 252, 252, 237,   0,   0,   0,   0,   0,   0,\n",
       "          0,   0],\n",
       "       [  0,   0,   0,   0,   0,   0,   0,   0,   0,   0,   0,   0,   0,\n",
       "         54, 227, 253, 252, 239, 233, 252,  57,   6,   0,   0,   0,   0,\n",
       "          0,   0],\n",
       "       [  0,   0,   0,   0,   0,   0,   0,   0,   0,   0,   0,  10,  60,\n",
       "        224, 252, 253, 252, 202,  84, 252, 253, 122,   0,   0,   0,   0,\n",
       "          0,   0],\n",
       "       [  0,   0,   0,   0,   0,   0,   0,   0,   0,   0,   0, 163, 252,\n",
       "        252, 252, 253, 252, 252,  96, 189, 253, 167,   0,   0,   0,   0,\n",
       "          0,   0],\n",
       "       [  0,   0,   0,   0,   0,   0,   0,   0,   0,   0,  51, 238, 253,\n",
       "        253, 190, 114, 253, 228,  47,  79, 255, 168,   0,   0,   0,   0,\n",
       "          0,   0],\n",
       "       [  0,   0,   0,   0,   0,   0,   0,   0,   0,  48, 238, 252, 252,\n",
       "        179,  12,  75, 121,  21,   0,   0, 253, 243,  50,   0,   0,   0,\n",
       "          0,   0],\n",
       "       [  0,   0,   0,   0,   0,   0,   0,   0,  38, 165, 253, 233, 208,\n",
       "         84,   0,   0,   0,   0,   0,   0, 253, 252, 165,   0,   0,   0,\n",
       "          0,   0],\n",
       "       [  0,   0,   0,   0,   0,   0,   0,   7, 178, 252, 240,  71,  19,\n",
       "         28,   0,   0,   0,   0,   0,   0, 253, 252, 195,   0,   0,   0,\n",
       "          0,   0],\n",
       "       [  0,   0,   0,   0,   0,   0,   0,  57, 252, 252,  63,   0,   0,\n",
       "          0,   0,   0,   0,   0,   0,   0, 253, 252, 195,   0,   0,   0,\n",
       "          0,   0],\n",
       "       [  0,   0,   0,   0,   0,   0,   0, 198, 253, 190,   0,   0,   0,\n",
       "          0,   0,   0,   0,   0,   0,   0, 255, 253, 196,   0,   0,   0,\n",
       "          0,   0],\n",
       "       [  0,   0,   0,   0,   0,   0,  76, 246, 252, 112,   0,   0,   0,\n",
       "          0,   0,   0,   0,   0,   0,   0, 253, 252, 148,   0,   0,   0,\n",
       "          0,   0],\n",
       "       [  0,   0,   0,   0,   0,   0,  85, 252, 230,  25,   0,   0,   0,\n",
       "          0,   0,   0,   0,   0,   7, 135, 253, 186,  12,   0,   0,   0,\n",
       "          0,   0],\n",
       "       [  0,   0,   0,   0,   0,   0,  85, 252, 223,   0,   0,   0,   0,\n",
       "          0,   0,   0,   0,   7, 131, 252, 225,  71,   0,   0,   0,   0,\n",
       "          0,   0],\n",
       "       [  0,   0,   0,   0,   0,   0,  85, 252, 145,   0,   0,   0,   0,\n",
       "          0,   0,   0,  48, 165, 252, 173,   0,   0,   0,   0,   0,   0,\n",
       "          0,   0],\n",
       "       [  0,   0,   0,   0,   0,   0,  86, 253, 225,   0,   0,   0,   0,\n",
       "          0,   0, 114, 238, 253, 162,   0,   0,   0,   0,   0,   0,   0,\n",
       "          0,   0],\n",
       "       [  0,   0,   0,   0,   0,   0,  85, 252, 249, 146,  48,  29,  85,\n",
       "        178, 225, 253, 223, 167,  56,   0,   0,   0,   0,   0,   0,   0,\n",
       "          0,   0],\n",
       "       [  0,   0,   0,   0,   0,   0,  85, 252, 252, 252, 229, 215, 252,\n",
       "        252, 252, 196, 130,   0,   0,   0,   0,   0,   0,   0,   0,   0,\n",
       "          0,   0],\n",
       "       [  0,   0,   0,   0,   0,   0,  28, 199, 252, 252, 253, 252, 252,\n",
       "        233, 145,   0,   0,   0,   0,   0,   0,   0,   0,   0,   0,   0,\n",
       "          0,   0],\n",
       "       [  0,   0,   0,   0,   0,   0,   0,  25, 128, 252, 253, 252, 141,\n",
       "         37,   0,   0,   0,   0,   0,   0,   0,   0,   0,   0,   0,   0,\n",
       "          0,   0],\n",
       "       [  0,   0,   0,   0,   0,   0,   0,   0,   0,   0,   0,   0,   0,\n",
       "          0,   0,   0,   0,   0,   0,   0,   0,   0,   0,   0,   0,   0,\n",
       "          0,   0],\n",
       "       [  0,   0,   0,   0,   0,   0,   0,   0,   0,   0,   0,   0,   0,\n",
       "          0,   0,   0,   0,   0,   0,   0,   0,   0,   0,   0,   0,   0,\n",
       "          0,   0],\n",
       "       [  0,   0,   0,   0,   0,   0,   0,   0,   0,   0,   0,   0,   0,\n",
       "          0,   0,   0,   0,   0,   0,   0,   0,   0,   0,   0,   0,   0,\n",
       "          0,   0],\n",
       "       [  0,   0,   0,   0,   0,   0,   0,   0,   0,   0,   0,   0,   0,\n",
       "          0,   0,   0,   0,   0,   0,   0,   0,   0,   0,   0,   0,   0,\n",
       "          0,   0]], dtype=uint8)"
      ]
     },
     "execution_count": 79,
     "metadata": {},
     "output_type": "execute_result"
    }
   ],
   "source": [
    "train_images[1]"
   ]
  },
  {
   "cell_type": "code",
   "execution_count": 80,
   "metadata": {},
   "outputs": [],
   "source": [
    "train_images = train_images.reshape((60000, 28 * 28)) #this is in the form of (row,column)\n",
    "train_images = train_images.astype('float32') / 255\n",
    "\n",
    "test_images = test_images.reshape((10000, 28 * 28)) \n",
    "test_images = test_images.astype('float32') / 255\n",
    "\n",
    "\n",
    "\n",
    "#if we dono reshape it then when we fit the mofel we will get the following error\n",
    "#Error when checking input: expected dense_3_input to have 2 dimensions,\n",
    "#but got array with shape (60000, 28, 28)"
   ]
  },
  {
   "cell_type": "code",
   "execution_count": 81,
   "metadata": {},
   "outputs": [],
   "source": [
    "from keras.utils import to_categorical\n",
    "\n",
    "\n",
    "train_labels = to_categorical(train_labels) \n",
    "test_labels = to_categorical(test_labels)\n",
    "#without coverting to 'to_catogorical'train_labels[1] is giving 0"
   ]
  },
  {
   "cell_type": "code",
   "execution_count": 82,
   "metadata": {},
   "outputs": [
    {
     "data": {
      "text/plain": [
       "array([1., 0., 0., 0., 0., 0., 0., 0., 0., 0.], dtype=float32)"
      ]
     },
     "execution_count": 82,
     "metadata": {},
     "output_type": "execute_result"
    }
   ],
   "source": [
    "train_labels[1]"
   ]
  },
  {
   "cell_type": "code",
   "execution_count": 83,
   "metadata": {},
   "outputs": [
    {
     "data": {
      "text/plain": [
       "array([0., 0., 0., 0., 1., 0., 0., 0., 0., 0.], dtype=float32)"
      ]
     },
     "execution_count": 83,
     "metadata": {},
     "output_type": "execute_result"
    }
   ],
   "source": [
    "#train_images[2] mein four ki image hai is liye yahan 1 four ki jaga aya\n",
    "train_labels[2]"
   ]
  },
  {
   "cell_type": "code",
   "execution_count": 84,
   "metadata": {},
   "outputs": [
    {
     "name": "stdout",
     "output_type": "stream",
     "text": [
      "Epoch 1/5\n",
      "60000/60000 [==============================] - ETA: 5:56 - loss: 2.4003 - acc: 0.093 - ETA: 2:07 - loss: 1.8498 - acc: 0.398 - ETA: 1:20 - loss: 1.5426 - acc: 0.528 - ETA: 1:00 - loss: 1.3823 - acc: 0.587 - ETA: 44s - loss: 1.2166 - acc: 0.639 - ETA: 36s - loss: 1.0943 - acc: 0.68 - ETA: 31s - loss: 1.0107 - acc: 0.70 - ETA: 27s - loss: 0.9392 - acc: 0.72 - ETA: 24s - loss: 0.8830 - acc: 0.74 - ETA: 22s - loss: 0.8364 - acc: 0.76 - ETA: 21s - loss: 0.8075 - acc: 0.77 - ETA: 20s - loss: 0.7769 - acc: 0.78 - ETA: 19s - loss: 0.7460 - acc: 0.79 - ETA: 18s - loss: 0.7268 - acc: 0.79 - ETA: 18s - loss: 0.7149 - acc: 0.79 - ETA: 17s - loss: 0.6927 - acc: 0.80 - ETA: 16s - loss: 0.6857 - acc: 0.80 - ETA: 16s - loss: 0.6647 - acc: 0.81 - ETA: 16s - loss: 0.6559 - acc: 0.81 - ETA: 15s - loss: 0.6433 - acc: 0.81 - ETA: 15s - loss: 0.6244 - acc: 0.82 - ETA: 15s - loss: 0.6156 - acc: 0.82 - ETA: 14s - loss: 0.6051 - acc: 0.82 - ETA: 14s - loss: 0.5954 - acc: 0.83 - ETA: 14s - loss: 0.5878 - acc: 0.83 - ETA: 13s - loss: 0.5757 - acc: 0.83 - ETA: 13s - loss: 0.5666 - acc: 0.83 - ETA: 13s - loss: 0.5558 - acc: 0.84 - ETA: 12s - loss: 0.5484 - acc: 0.84 - ETA: 12s - loss: 0.5430 - acc: 0.84 - ETA: 12s - loss: 0.5361 - acc: 0.84 - ETA: 12s - loss: 0.5293 - acc: 0.85 - ETA: 12s - loss: 0.5241 - acc: 0.85 - ETA: 12s - loss: 0.5154 - acc: 0.85 - ETA: 11s - loss: 0.5087 - acc: 0.85 - ETA: 11s - loss: 0.5035 - acc: 0.85 - ETA: 11s - loss: 0.4985 - acc: 0.85 - ETA: 11s - loss: 0.4926 - acc: 0.86 - ETA: 11s - loss: 0.4856 - acc: 0.86 - ETA: 11s - loss: 0.4808 - acc: 0.86 - ETA: 10s - loss: 0.4766 - acc: 0.86 - ETA: 10s - loss: 0.4709 - acc: 0.86 - ETA: 10s - loss: 0.4653 - acc: 0.86 - ETA: 10s - loss: 0.4607 - acc: 0.86 - ETA: 10s - loss: 0.4580 - acc: 0.86 - ETA: 10s - loss: 0.4559 - acc: 0.87 - ETA: 10s - loss: 0.4539 - acc: 0.87 - ETA: 10s - loss: 0.4504 - acc: 0.87 - ETA: 10s - loss: 0.4469 - acc: 0.87 - ETA: 10s - loss: 0.4436 - acc: 0.87 - ETA: 9s - loss: 0.4394 - acc: 0.8746 - ETA: 9s - loss: 0.4360 - acc: 0.875 - ETA: 9s - loss: 0.4321 - acc: 0.876 - ETA: 9s - loss: 0.4287 - acc: 0.877 - ETA: 9s - loss: 0.4254 - acc: 0.878 - ETA: 9s - loss: 0.4227 - acc: 0.879 - ETA: 9s - loss: 0.4212 - acc: 0.879 - ETA: 9s - loss: 0.4195 - acc: 0.879 - ETA: 9s - loss: 0.4170 - acc: 0.880 - ETA: 9s - loss: 0.4141 - acc: 0.881 - ETA: 9s - loss: 0.4123 - acc: 0.882 - ETA: 9s - loss: 0.4107 - acc: 0.882 - ETA: 8s - loss: 0.4081 - acc: 0.883 - ETA: 8s - loss: 0.4051 - acc: 0.884 - ETA: 8s - loss: 0.4019 - acc: 0.885 - ETA: 8s - loss: 0.4001 - acc: 0.885 - ETA: 8s - loss: 0.3967 - acc: 0.886 - ETA: 8s - loss: 0.3945 - acc: 0.887 - ETA: 8s - loss: 0.3921 - acc: 0.887 - ETA: 8s - loss: 0.3911 - acc: 0.888 - ETA: 8s - loss: 0.3889 - acc: 0.888 - ETA: 8s - loss: 0.3867 - acc: 0.889 - ETA: 7s - loss: 0.3834 - acc: 0.890 - ETA: 7s - loss: 0.3820 - acc: 0.891 - ETA: 7s - loss: 0.3789 - acc: 0.891 - ETA: 7s - loss: 0.3765 - acc: 0.892 - ETA: 7s - loss: 0.3749 - acc: 0.893 - ETA: 7s - loss: 0.3720 - acc: 0.893 - ETA: 7s - loss: 0.3697 - acc: 0.894 - ETA: 7s - loss: 0.3666 - acc: 0.895 - ETA: 7s - loss: 0.3649 - acc: 0.895 - ETA: 7s - loss: 0.3630 - acc: 0.896 - ETA: 6s - loss: 0.3608 - acc: 0.896 - ETA: 6s - loss: 0.3586 - acc: 0.897 - ETA: 6s - loss: 0.3569 - acc: 0.897 - ETA: 6s - loss: 0.3546 - acc: 0.898 - ETA: 6s - loss: 0.3534 - acc: 0.898 - ETA: 6s - loss: 0.3514 - acc: 0.899 - ETA: 6s - loss: 0.3494 - acc: 0.900 - ETA: 6s - loss: 0.3473 - acc: 0.900 - ETA: 6s - loss: 0.3458 - acc: 0.901 - ETA: 6s - loss: 0.3441 - acc: 0.901 - ETA: 6s - loss: 0.3427 - acc: 0.901 - ETA: 5s - loss: 0.3415 - acc: 0.902 - ETA: 5s - loss: 0.3399 - acc: 0.902 - ETA: 5s - loss: 0.3377 - acc: 0.903 - ETA: 5s - loss: 0.3365 - acc: 0.903 - ETA: 5s - loss: 0.3349 - acc: 0.904 - ETA: 5s - loss: 0.3332 - acc: 0.904 - ETA: 5s - loss: 0.3317 - acc: 0.905 - ETA: 5s - loss: 0.3303 - acc: 0.905 - ETA: 5s - loss: 0.3289 - acc: 0.905 - ETA: 5s - loss: 0.3281 - acc: 0.906 - ETA: 5s - loss: 0.3273 - acc: 0.906 - ETA: 5s - loss: 0.3260 - acc: 0.906 - ETA: 5s - loss: 0.3246 - acc: 0.907 - ETA: 5s - loss: 0.3236 - acc: 0.907 - ETA: 5s - loss: 0.3227 - acc: 0.907 - ETA: 4s - loss: 0.3220 - acc: 0.907 - ETA: 4s - loss: 0.3209 - acc: 0.907 - ETA: 4s - loss: 0.3200 - acc: 0.908 - ETA: 4s - loss: 0.3189 - acc: 0.908 - ETA: 4s - loss: 0.3177 - acc: 0.908 - ETA: 4s - loss: 0.3163 - acc: 0.909 - ETA: 4s - loss: 0.3157 - acc: 0.909 - ETA: 4s - loss: 0.3147 - acc: 0.909 - ETA: 4s - loss: 0.3128 - acc: 0.910 - ETA: 4s - loss: 0.3114 - acc: 0.910 - ETA: 4s - loss: 0.3100 - acc: 0.910 - ETA: 4s - loss: 0.3090 - acc: 0.911 - ETA: 4s - loss: 0.3080 - acc: 0.911 - ETA: 4s - loss: 0.3065 - acc: 0.911 - ETA: 4s - loss: 0.3057 - acc: 0.912 - ETA: 4s - loss: 0.3047 - acc: 0.912 - ETA: 3s - loss: 0.3037 - acc: 0.912 - ETA: 3s - loss: 0.3028 - acc: 0.912 - ETA: 3s - loss: 0.3019 - acc: 0.912 - ETA: 3s - loss: 0.3010 - acc: 0.913 - ETA: 3s - loss: 0.2993 - acc: 0.913 - ETA: 3s - loss: 0.2990 - acc: 0.913 - ETA: 3s - loss: 0.2981 - acc: 0.913 - ETA: 3s - loss: 0.2970 - acc: 0.914 - ETA: 3s - loss: 0.2957 - acc: 0.914 - ETA: 3s - loss: 0.2951 - acc: 0.914 - ETA: 3s - loss: 0.2940 - acc: 0.915 - ETA: 3s - loss: 0.2934 - acc: 0.915 - ETA: 3s - loss: 0.2922 - acc: 0.915 - ETA: 3s - loss: 0.2914 - acc: 0.915 - ETA: 3s - loss: 0.2908 - acc: 0.915 - ETA: 3s - loss: 0.2898 - acc: 0.916 - ETA: 2s - loss: 0.2888 - acc: 0.916 - ETA: 2s - loss: 0.2886 - acc: 0.916 - ETA: 2s - loss: 0.2874 - acc: 0.916 - ETA: 2s - loss: 0.2867 - acc: 0.917 - ETA: 2s - loss: 0.2853 - acc: 0.917 - ETA: 2s - loss: 0.2843 - acc: 0.917 - ETA: 2s - loss: 0.2832 - acc: 0.918 - ETA: 2s - loss: 0.2820 - acc: 0.918 - ETA: 2s - loss: 0.2811 - acc: 0.918 - ETA: 2s - loss: 0.2802 - acc: 0.919 - ETA: 2s - loss: 0.2795 - acc: 0.919 - ETA: 2s - loss: 0.2789 - acc: 0.919 - ETA: 2s - loss: 0.2785 - acc: 0.919 - ETA: 2s - loss: 0.2776 - acc: 0.919 - ETA: 1s - loss: 0.2770 - acc: 0.919 - ETA: 1s - loss: 0.2769 - acc: 0.919 - ETA: 1s - loss: 0.2761 - acc: 0.920 - ETA: 1s - loss: 0.2751 - acc: 0.920 - ETA: 1s - loss: 0.2742 - acc: 0.920 - ETA: 1s - loss: 0.2736 - acc: 0.920 - ETA: 1s - loss: 0.2728 - acc: 0.921 - ETA: 1s - loss: 0.2721 - acc: 0.921 - ETA: 1s - loss: 0.2715 - acc: 0.921 - ETA: 1s - loss: 0.2706 - acc: 0.921 - ETA: 1s - loss: 0.2697 - acc: 0.922 - ETA: 1s - loss: 0.2691 - acc: 0.922 - ETA: 1s - loss: 0.2682 - acc: 0.922 - ETA: 1s - loss: 0.2671 - acc: 0.922 - ETA: 1s - loss: 0.2665 - acc: 0.923 - ETA: 0s - loss: 0.2655 - acc: 0.923 - ETA: 0s - loss: 0.2643 - acc: 0.923 - ETA: 0s - loss: 0.2636 - acc: 0.923 - ETA: 0s - loss: 0.2626 - acc: 0.924 - ETA: 0s - loss: 0.2616 - acc: 0.924 - ETA: 0s - loss: 0.2607 - acc: 0.924 - ETA: 0s - loss: 0.2599 - acc: 0.924 - ETA: 0s - loss: 0.2590 - acc: 0.925 - ETA: 0s - loss: 0.2582 - acc: 0.925 - ETA: 0s - loss: 0.2576 - acc: 0.925 - ETA: 0s - loss: 0.2570 - acc: 0.925 - ETA: 0s - loss: 0.2563 - acc: 0.925 - ETA: 0s - loss: 0.2558 - acc: 0.925 - ETA: 0s - loss: 0.2553 - acc: 0.926 - ETA: 0s - loss: 0.2544 - acc: 0.926 - 12s 193us/step - loss: 0.2539 - acc: 0.9264\n",
      "Epoch 2/5\n",
      "60000/60000 [==============================] - ETA: 11s - loss: 0.1819 - acc: 0.96 - ETA: 9s - loss: 0.1354 - acc: 0.9648 - ETA: 10s - loss: 0.1208 - acc: 0.97 - ETA: 10s - loss: 0.1280 - acc: 0.96 - ETA: 10s - loss: 0.1329 - acc: 0.96 - ETA: 10s - loss: 0.1257 - acc: 0.96 - ETA: 10s - loss: 0.1269 - acc: 0.96 - ETA: 10s - loss: 0.1260 - acc: 0.96 - ETA: 10s - loss: 0.1239 - acc: 0.96 - ETA: 9s - loss: 0.1268 - acc: 0.9615 - ETA: 9s - loss: 0.1265 - acc: 0.961 - ETA: 9s - loss: 0.1256 - acc: 0.961 - ETA: 9s - loss: 0.1255 - acc: 0.962 - ETA: 9s - loss: 0.1226 - acc: 0.962 - ETA: 9s - loss: 0.1216 - acc: 0.963 - ETA: 9s - loss: 0.1188 - acc: 0.964 - ETA: 9s - loss: 0.1166 - acc: 0.964 - ETA: 9s - loss: 0.1158 - acc: 0.965 - ETA: 9s - loss: 0.1166 - acc: 0.965 - ETA: 9s - loss: 0.1153 - acc: 0.965 - ETA: 8s - loss: 0.1161 - acc: 0.965 - ETA: 8s - loss: 0.1186 - acc: 0.964 - ETA: 8s - loss: 0.1180 - acc: 0.964 - ETA: 8s - loss: 0.1160 - acc: 0.965 - ETA: 8s - loss: 0.1153 - acc: 0.965 - ETA: 8s - loss: 0.1154 - acc: 0.964 - ETA: 8s - loss: 0.1162 - acc: 0.964 - ETA: 8s - loss: 0.1162 - acc: 0.964 - ETA: 8s - loss: 0.1168 - acc: 0.964 - ETA: 8s - loss: 0.1163 - acc: 0.964 - ETA: 8s - loss: 0.1149 - acc: 0.964 - ETA: 8s - loss: 0.1152 - acc: 0.964 - ETA: 8s - loss: 0.1142 - acc: 0.965 - ETA: 8s - loss: 0.1140 - acc: 0.965 - ETA: 8s - loss: 0.1145 - acc: 0.965 - ETA: 8s - loss: 0.1137 - acc: 0.965 - ETA: 8s - loss: 0.1137 - acc: 0.964 - ETA: 8s - loss: 0.1135 - acc: 0.964 - ETA: 8s - loss: 0.1132 - acc: 0.964 - ETA: 8s - loss: 0.1128 - acc: 0.965 - ETA: 8s - loss: 0.1117 - acc: 0.965 - ETA: 7s - loss: 0.1114 - acc: 0.965 - ETA: 7s - loss: 0.1120 - acc: 0.965 - ETA: 7s - loss: 0.1118 - acc: 0.965 - ETA: 7s - loss: 0.1115 - acc: 0.965 - ETA: 7s - loss: 0.1122 - acc: 0.966 - ETA: 7s - loss: 0.1125 - acc: 0.966 - ETA: 7s - loss: 0.1136 - acc: 0.965 - ETA: 7s - loss: 0.1132 - acc: 0.965 - ETA: 7s - loss: 0.1126 - acc: 0.965 - ETA: 7s - loss: 0.1123 - acc: 0.966 - ETA: 7s - loss: 0.1124 - acc: 0.965 - ETA: 7s - loss: 0.1122 - acc: 0.965 - ETA: 7s - loss: 0.1125 - acc: 0.965 - ETA: 7s - loss: 0.1120 - acc: 0.965 - ETA: 7s - loss: 0.1125 - acc: 0.965 - ETA: 6s - loss: 0.1125 - acc: 0.965 - ETA: 6s - loss: 0.1130 - acc: 0.965 - ETA: 6s - loss: 0.1130 - acc: 0.965 - ETA: 6s - loss: 0.1129 - acc: 0.965 - ETA: 6s - loss: 0.1134 - acc: 0.965 - ETA: 6s - loss: 0.1129 - acc: 0.965 - ETA: 6s - loss: 0.1127 - acc: 0.965 - ETA: 6s - loss: 0.1127 - acc: 0.965 - ETA: 6s - loss: 0.1131 - acc: 0.965 - ETA: 6s - loss: 0.1130 - acc: 0.965 - ETA: 6s - loss: 0.1122 - acc: 0.966 - ETA: 6s - loss: 0.1120 - acc: 0.966 - ETA: 6s - loss: 0.1116 - acc: 0.966 - ETA: 6s - loss: 0.1109 - acc: 0.966 - ETA: 6s - loss: 0.1112 - acc: 0.966 - ETA: 6s - loss: 0.1113 - acc: 0.966 - ETA: 6s - loss: 0.1118 - acc: 0.966 - ETA: 5s - loss: 0.1115 - acc: 0.966 - ETA: 5s - loss: 0.1123 - acc: 0.966 - ETA: 5s - loss: 0.1118 - acc: 0.966 - ETA: 5s - loss: 0.1122 - acc: 0.966 - ETA: 5s - loss: 0.1124 - acc: 0.966 - ETA: 5s - loss: 0.1130 - acc: 0.966 - ETA: 5s - loss: 0.1126 - acc: 0.966 - ETA: 5s - loss: 0.1121 - acc: 0.966 - ETA: 5s - loss: 0.1118 - acc: 0.966 - ETA: 5s - loss: 0.1120 - acc: 0.966 - ETA: 5s - loss: 0.1116 - acc: 0.966 - ETA: 5s - loss: 0.1117 - acc: 0.966 - ETA: 5s - loss: 0.1120 - acc: 0.966 - ETA: 5s - loss: 0.1120 - acc: 0.966 - ETA: 5s - loss: 0.1119 - acc: 0.966 - ETA: 5s - loss: 0.1118 - acc: 0.966 - ETA: 5s - loss: 0.1114 - acc: 0.966 - ETA: 4s - loss: 0.1116 - acc: 0.967 - ETA: 4s - loss: 0.1120 - acc: 0.966 - ETA: 4s - loss: 0.1118 - acc: 0.966 - ETA: 4s - loss: 0.1117 - acc: 0.966 - ETA: 4s - loss: 0.1118 - acc: 0.966 - ETA: 4s - loss: 0.1116 - acc: 0.966 - ETA: 4s - loss: 0.1115 - acc: 0.966 - ETA: 4s - loss: 0.1117 - acc: 0.966 - ETA: 4s - loss: 0.1114 - acc: 0.966 - ETA: 4s - loss: 0.1108 - acc: 0.966 - ETA: 4s - loss: 0.1108 - acc: 0.966 - ETA: 4s - loss: 0.1111 - acc: 0.966 - ETA: 4s - loss: 0.1114 - acc: 0.966 - ETA: 4s - loss: 0.1112 - acc: 0.966 - ETA: 3s - loss: 0.1108 - acc: 0.966 - ETA: 3s - loss: 0.1103 - acc: 0.966 - ETA: 3s - loss: 0.1101 - acc: 0.966 - ETA: 3s - loss: 0.1096 - acc: 0.967 - ETA: 3s - loss: 0.1095 - acc: 0.967 - ETA: 3s - loss: 0.1092 - acc: 0.967 - ETA: 3s - loss: 0.1094 - acc: 0.967 - ETA: 3s - loss: 0.1093 - acc: 0.967 - ETA: 3s - loss: 0.1089 - acc: 0.967 - ETA: 3s - loss: 0.1089 - acc: 0.967 - ETA: 3s - loss: 0.1088 - acc: 0.967 - ETA: 3s - loss: 0.1085 - acc: 0.967 - ETA: 3s - loss: 0.1083 - acc: 0.967 - ETA: 3s - loss: 0.1086 - acc: 0.967 - ETA: 3s - loss: 0.1084 - acc: 0.967 - ETA: 2s - loss: 0.1081 - acc: 0.967 - ETA: 2s - loss: 0.1078 - acc: 0.967 - ETA: 2s - loss: 0.1077 - acc: 0.967 - ETA: 2s - loss: 0.1076 - acc: 0.967 - ETA: 2s - loss: 0.1071 - acc: 0.967 - ETA: 2s - loss: 0.1073 - acc: 0.967 - ETA: 2s - loss: 0.1074 - acc: 0.967 - ETA: 2s - loss: 0.1072 - acc: 0.967 - ETA: 2s - loss: 0.1072 - acc: 0.967 - ETA: 2s - loss: 0.1071 - acc: 0.967 - ETA: 2s - loss: 0.1068 - acc: 0.967 - ETA: 2s - loss: 0.1069 - acc: 0.967 - ETA: 2s - loss: 0.1069 - acc: 0.967 - ETA: 2s - loss: 0.1068 - acc: 0.967 - ETA: 2s - loss: 0.1067 - acc: 0.967 - ETA: 1s - loss: 0.1068 - acc: 0.967 - ETA: 1s - loss: 0.1066 - acc: 0.967 - ETA: 1s - loss: 0.1063 - acc: 0.967 - ETA: 1s - loss: 0.1061 - acc: 0.967 - ETA: 1s - loss: 0.1060 - acc: 0.967 - ETA: 1s - loss: 0.1058 - acc: 0.967 - ETA: 1s - loss: 0.1059 - acc: 0.967 - ETA: 1s - loss: 0.1059 - acc: 0.967 - ETA: 1s - loss: 0.1058 - acc: 0.967 - ETA: 1s - loss: 0.1056 - acc: 0.967 - ETA: 1s - loss: 0.1052 - acc: 0.967 - ETA: 1s - loss: 0.1053 - acc: 0.967 - ETA: 1s - loss: 0.1051 - acc: 0.968 - ETA: 1s - loss: 0.1048 - acc: 0.968 - ETA: 1s - loss: 0.1045 - acc: 0.968 - ETA: 1s - loss: 0.1044 - acc: 0.968 - ETA: 1s - loss: 0.1040 - acc: 0.968 - ETA: 0s - loss: 0.1041 - acc: 0.968 - ETA: 0s - loss: 0.1039 - acc: 0.968 - ETA: 0s - loss: 0.1039 - acc: 0.968 - ETA: 0s - loss: 0.1036 - acc: 0.968 - ETA: 0s - loss: 0.1039 - acc: 0.968 - ETA: 0s - loss: 0.1037 - acc: 0.968 - ETA: 0s - loss: 0.1036 - acc: 0.968 - ETA: 0s - loss: 0.1036 - acc: 0.968 - ETA: 0s - loss: 0.1037 - acc: 0.968 - ETA: 0s - loss: 0.1034 - acc: 0.968 - ETA: 0s - loss: 0.1031 - acc: 0.968 - ETA: 0s - loss: 0.1028 - acc: 0.968 - ETA: 0s - loss: 0.1027 - acc: 0.968 - ETA: 0s - loss: 0.1027 - acc: 0.968 - ETA: 0s - loss: 0.1023 - acc: 0.968 - ETA: 0s - loss: 0.1023 - acc: 0.968 - 10s 164us/step - loss: 0.1022 - acc: 0.9689\n",
      "Epoch 3/5\n"
     ]
    },
    {
     "name": "stdout",
     "output_type": "stream",
     "text": [
      "60000/60000 [==============================] - ETA: 11s - loss: 0.0807 - acc: 0.96 - ETA: 9s - loss: 0.0617 - acc: 0.9824 - ETA: 9s - loss: 0.0756 - acc: 0.981 - ETA: 9s - loss: 0.0751 - acc: 0.980 - ETA: 9s - loss: 0.0738 - acc: 0.980 - ETA: 9s - loss: 0.0696 - acc: 0.981 - ETA: 9s - loss: 0.0716 - acc: 0.979 - ETA: 8s - loss: 0.0662 - acc: 0.980 - ETA: 8s - loss: 0.0645 - acc: 0.980 - ETA: 8s - loss: 0.0649 - acc: 0.980 - ETA: 8s - loss: 0.0675 - acc: 0.979 - ETA: 8s - loss: 0.0663 - acc: 0.980 - ETA: 8s - loss: 0.0696 - acc: 0.979 - ETA: 8s - loss: 0.0697 - acc: 0.979 - ETA: 8s - loss: 0.0696 - acc: 0.980 - ETA: 8s - loss: 0.0678 - acc: 0.980 - ETA: 8s - loss: 0.0698 - acc: 0.979 - ETA: 8s - loss: 0.0714 - acc: 0.979 - ETA: 8s - loss: 0.0711 - acc: 0.979 - ETA: 8s - loss: 0.0721 - acc: 0.978 - ETA: 8s - loss: 0.0718 - acc: 0.978 - ETA: 7s - loss: 0.0704 - acc: 0.979 - ETA: 7s - loss: 0.0709 - acc: 0.978 - ETA: 7s - loss: 0.0692 - acc: 0.979 - ETA: 7s - loss: 0.0690 - acc: 0.979 - ETA: 7s - loss: 0.0690 - acc: 0.979 - ETA: 7s - loss: 0.0709 - acc: 0.979 - ETA: 7s - loss: 0.0710 - acc: 0.979 - ETA: 7s - loss: 0.0718 - acc: 0.979 - ETA: 7s - loss: 0.0716 - acc: 0.979 - ETA: 7s - loss: 0.0707 - acc: 0.979 - ETA: 7s - loss: 0.0703 - acc: 0.980 - ETA: 7s - loss: 0.0704 - acc: 0.979 - ETA: 7s - loss: 0.0696 - acc: 0.979 - ETA: 7s - loss: 0.0694 - acc: 0.979 - ETA: 7s - loss: 0.0694 - acc: 0.979 - ETA: 7s - loss: 0.0699 - acc: 0.979 - ETA: 7s - loss: 0.0697 - acc: 0.979 - ETA: 7s - loss: 0.0705 - acc: 0.979 - ETA: 6s - loss: 0.0709 - acc: 0.978 - ETA: 6s - loss: 0.0707 - acc: 0.978 - ETA: 6s - loss: 0.0720 - acc: 0.978 - ETA: 6s - loss: 0.0729 - acc: 0.978 - ETA: 6s - loss: 0.0731 - acc: 0.978 - ETA: 6s - loss: 0.0729 - acc: 0.978 - ETA: 6s - loss: 0.0724 - acc: 0.978 - ETA: 6s - loss: 0.0727 - acc: 0.978 - ETA: 6s - loss: 0.0728 - acc: 0.978 - ETA: 6s - loss: 0.0724 - acc: 0.978 - ETA: 6s - loss: 0.0722 - acc: 0.978 - ETA: 6s - loss: 0.0723 - acc: 0.978 - ETA: 6s - loss: 0.0721 - acc: 0.978 - ETA: 6s - loss: 0.0719 - acc: 0.978 - ETA: 6s - loss: 0.0721 - acc: 0.978 - ETA: 6s - loss: 0.0719 - acc: 0.978 - ETA: 6s - loss: 0.0718 - acc: 0.978 - ETA: 6s - loss: 0.0710 - acc: 0.978 - ETA: 6s - loss: 0.0717 - acc: 0.978 - ETA: 6s - loss: 0.0718 - acc: 0.978 - ETA: 6s - loss: 0.0723 - acc: 0.978 - ETA: 5s - loss: 0.0721 - acc: 0.978 - ETA: 5s - loss: 0.0719 - acc: 0.978 - ETA: 5s - loss: 0.0715 - acc: 0.978 - ETA: 5s - loss: 0.0717 - acc: 0.978 - ETA: 5s - loss: 0.0711 - acc: 0.978 - ETA: 5s - loss: 0.0711 - acc: 0.978 - ETA: 5s - loss: 0.0709 - acc: 0.978 - ETA: 5s - loss: 0.0707 - acc: 0.978 - ETA: 5s - loss: 0.0703 - acc: 0.978 - ETA: 5s - loss: 0.0701 - acc: 0.978 - ETA: 5s - loss: 0.0699 - acc: 0.979 - ETA: 5s - loss: 0.0697 - acc: 0.979 - ETA: 5s - loss: 0.0693 - acc: 0.979 - ETA: 5s - loss: 0.0696 - acc: 0.979 - ETA: 5s - loss: 0.0691 - acc: 0.979 - ETA: 5s - loss: 0.0692 - acc: 0.979 - ETA: 4s - loss: 0.0693 - acc: 0.979 - ETA: 4s - loss: 0.0691 - acc: 0.979 - ETA: 4s - loss: 0.0690 - acc: 0.979 - ETA: 4s - loss: 0.0693 - acc: 0.979 - ETA: 4s - loss: 0.0697 - acc: 0.979 - ETA: 4s - loss: 0.0698 - acc: 0.979 - ETA: 4s - loss: 0.0696 - acc: 0.979 - ETA: 4s - loss: 0.0696 - acc: 0.979 - ETA: 4s - loss: 0.0700 - acc: 0.979 - ETA: 4s - loss: 0.0702 - acc: 0.979 - ETA: 4s - loss: 0.0698 - acc: 0.979 - ETA: 4s - loss: 0.0694 - acc: 0.979 - ETA: 4s - loss: 0.0693 - acc: 0.979 - ETA: 4s - loss: 0.0692 - acc: 0.979 - ETA: 4s - loss: 0.0688 - acc: 0.979 - ETA: 4s - loss: 0.0687 - acc: 0.979 - ETA: 4s - loss: 0.0685 - acc: 0.979 - ETA: 3s - loss: 0.0685 - acc: 0.979 - ETA: 3s - loss: 0.0684 - acc: 0.979 - ETA: 3s - loss: 0.0684 - acc: 0.979 - ETA: 3s - loss: 0.0685 - acc: 0.979 - ETA: 3s - loss: 0.0685 - acc: 0.979 - ETA: 3s - loss: 0.0684 - acc: 0.979 - ETA: 3s - loss: 0.0681 - acc: 0.979 - ETA: 3s - loss: 0.0682 - acc: 0.979 - ETA: 3s - loss: 0.0683 - acc: 0.979 - ETA: 3s - loss: 0.0686 - acc: 0.979 - ETA: 3s - loss: 0.0687 - acc: 0.979 - ETA: 3s - loss: 0.0685 - acc: 0.979 - ETA: 3s - loss: 0.0685 - acc: 0.979 - ETA: 3s - loss: 0.0683 - acc: 0.979 - ETA: 3s - loss: 0.0683 - acc: 0.979 - ETA: 3s - loss: 0.0683 - acc: 0.979 - ETA: 3s - loss: 0.0684 - acc: 0.979 - ETA: 2s - loss: 0.0685 - acc: 0.979 - ETA: 2s - loss: 0.0684 - acc: 0.979 - ETA: 2s - loss: 0.0685 - acc: 0.979 - ETA: 2s - loss: 0.0683 - acc: 0.979 - ETA: 2s - loss: 0.0684 - acc: 0.979 - ETA: 2s - loss: 0.0681 - acc: 0.979 - ETA: 2s - loss: 0.0679 - acc: 0.979 - ETA: 2s - loss: 0.0678 - acc: 0.979 - ETA: 2s - loss: 0.0677 - acc: 0.979 - ETA: 2s - loss: 0.0676 - acc: 0.979 - ETA: 2s - loss: 0.0676 - acc: 0.979 - ETA: 2s - loss: 0.0676 - acc: 0.979 - ETA: 2s - loss: 0.0674 - acc: 0.979 - ETA: 2s - loss: 0.0673 - acc: 0.979 - ETA: 2s - loss: 0.0673 - acc: 0.979 - ETA: 2s - loss: 0.0672 - acc: 0.979 - ETA: 1s - loss: 0.0672 - acc: 0.979 - ETA: 1s - loss: 0.0672 - acc: 0.979 - ETA: 1s - loss: 0.0670 - acc: 0.980 - ETA: 1s - loss: 0.0671 - acc: 0.979 - ETA: 1s - loss: 0.0670 - acc: 0.980 - ETA: 1s - loss: 0.0670 - acc: 0.980 - ETA: 1s - loss: 0.0671 - acc: 0.980 - ETA: 1s - loss: 0.0672 - acc: 0.979 - ETA: 1s - loss: 0.0672 - acc: 0.979 - ETA: 1s - loss: 0.0674 - acc: 0.979 - ETA: 1s - loss: 0.0674 - acc: 0.979 - ETA: 1s - loss: 0.0671 - acc: 0.979 - ETA: 1s - loss: 0.0673 - acc: 0.979 - ETA: 1s - loss: 0.0671 - acc: 0.979 - ETA: 1s - loss: 0.0673 - acc: 0.979 - ETA: 1s - loss: 0.0676 - acc: 0.979 - ETA: 1s - loss: 0.0676 - acc: 0.979 - ETA: 0s - loss: 0.0676 - acc: 0.979 - ETA: 0s - loss: 0.0674 - acc: 0.979 - ETA: 0s - loss: 0.0673 - acc: 0.979 - ETA: 0s - loss: 0.0676 - acc: 0.979 - ETA: 0s - loss: 0.0675 - acc: 0.979 - ETA: 0s - loss: 0.0676 - acc: 0.979 - ETA: 0s - loss: 0.0675 - acc: 0.979 - ETA: 0s - loss: 0.0678 - acc: 0.979 - ETA: 0s - loss: 0.0677 - acc: 0.979 - ETA: 0s - loss: 0.0676 - acc: 0.979 - ETA: 0s - loss: 0.0677 - acc: 0.979 - ETA: 0s - loss: 0.0676 - acc: 0.979 - ETA: 0s - loss: 0.0677 - acc: 0.979 - ETA: 0s - loss: 0.0677 - acc: 0.979 - ETA: 0s - loss: 0.0677 - acc: 0.979 - ETA: 0s - loss: 0.0675 - acc: 0.980 - ETA: 0s - loss: 0.0674 - acc: 0.980 - ETA: 0s - loss: 0.0675 - acc: 0.980 - 9s 157us/step - loss: 0.0675 - acc: 0.9800\n",
      "Epoch 4/5\n",
      "60000/60000 [==============================] - ETA: 12s - loss: 0.0122 - acc: 1.00 - ETA: 10s - loss: 0.0435 - acc: 0.99 - ETA: 10s - loss: 0.0418 - acc: 0.99 - ETA: 9s - loss: 0.0385 - acc: 0.9922 - ETA: 9s - loss: 0.0446 - acc: 0.989 - ETA: 9s - loss: 0.0514 - acc: 0.986 - ETA: 9s - loss: 0.0463 - acc: 0.988 - ETA: 9s - loss: 0.0463 - acc: 0.987 - ETA: 9s - loss: 0.0436 - acc: 0.988 - ETA: 8s - loss: 0.0447 - acc: 0.987 - ETA: 8s - loss: 0.0469 - acc: 0.986 - ETA: 8s - loss: 0.0456 - acc: 0.986 - ETA: 8s - loss: 0.0467 - acc: 0.986 - ETA: 8s - loss: 0.0474 - acc: 0.985 - ETA: 8s - loss: 0.0477 - acc: 0.986 - ETA: 8s - loss: 0.0473 - acc: 0.986 - ETA: 8s - loss: 0.0468 - acc: 0.986 - ETA: 8s - loss: 0.0469 - acc: 0.986 - ETA: 8s - loss: 0.0472 - acc: 0.986 - ETA: 8s - loss: 0.0471 - acc: 0.986 - ETA: 8s - loss: 0.0468 - acc: 0.985 - ETA: 8s - loss: 0.0468 - acc: 0.985 - ETA: 8s - loss: 0.0469 - acc: 0.985 - ETA: 8s - loss: 0.0468 - acc: 0.985 - ETA: 7s - loss: 0.0467 - acc: 0.985 - ETA: 7s - loss: 0.0463 - acc: 0.985 - ETA: 7s - loss: 0.0462 - acc: 0.985 - ETA: 7s - loss: 0.0462 - acc: 0.985 - ETA: 7s - loss: 0.0457 - acc: 0.986 - ETA: 7s - loss: 0.0459 - acc: 0.985 - ETA: 7s - loss: 0.0452 - acc: 0.986 - ETA: 7s - loss: 0.0458 - acc: 0.986 - ETA: 7s - loss: 0.0456 - acc: 0.986 - ETA: 7s - loss: 0.0456 - acc: 0.985 - ETA: 7s - loss: 0.0452 - acc: 0.986 - ETA: 7s - loss: 0.0450 - acc: 0.986 - ETA: 7s - loss: 0.0452 - acc: 0.986 - ETA: 7s - loss: 0.0460 - acc: 0.985 - ETA: 7s - loss: 0.0458 - acc: 0.985 - ETA: 7s - loss: 0.0454 - acc: 0.986 - ETA: 7s - loss: 0.0451 - acc: 0.986 - ETA: 7s - loss: 0.0461 - acc: 0.985 - ETA: 7s - loss: 0.0465 - acc: 0.985 - ETA: 6s - loss: 0.0467 - acc: 0.985 - ETA: 6s - loss: 0.0462 - acc: 0.985 - ETA: 6s - loss: 0.0466 - acc: 0.985 - ETA: 6s - loss: 0.0463 - acc: 0.985 - ETA: 6s - loss: 0.0466 - acc: 0.985 - ETA: 6s - loss: 0.0472 - acc: 0.985 - ETA: 6s - loss: 0.0472 - acc: 0.985 - ETA: 6s - loss: 0.0479 - acc: 0.985 - ETA: 6s - loss: 0.0481 - acc: 0.985 - ETA: 6s - loss: 0.0477 - acc: 0.985 - ETA: 6s - loss: 0.0472 - acc: 0.986 - ETA: 6s - loss: 0.0475 - acc: 0.986 - ETA: 6s - loss: 0.0480 - acc: 0.985 - ETA: 6s - loss: 0.0478 - acc: 0.986 - ETA: 6s - loss: 0.0478 - acc: 0.986 - ETA: 5s - loss: 0.0475 - acc: 0.986 - ETA: 5s - loss: 0.0475 - acc: 0.986 - ETA: 5s - loss: 0.0472 - acc: 0.986 - ETA: 5s - loss: 0.0477 - acc: 0.985 - ETA: 5s - loss: 0.0475 - acc: 0.985 - ETA: 5s - loss: 0.0478 - acc: 0.986 - ETA: 5s - loss: 0.0478 - acc: 0.986 - ETA: 5s - loss: 0.0486 - acc: 0.985 - ETA: 5s - loss: 0.0485 - acc: 0.985 - ETA: 5s - loss: 0.0482 - acc: 0.985 - ETA: 5s - loss: 0.0479 - acc: 0.985 - ETA: 5s - loss: 0.0478 - acc: 0.986 - ETA: 5s - loss: 0.0477 - acc: 0.986 - ETA: 5s - loss: 0.0475 - acc: 0.985 - ETA: 5s - loss: 0.0476 - acc: 0.985 - ETA: 5s - loss: 0.0475 - acc: 0.985 - ETA: 4s - loss: 0.0482 - acc: 0.985 - ETA: 4s - loss: 0.0481 - acc: 0.985 - ETA: 4s - loss: 0.0481 - acc: 0.985 - ETA: 4s - loss: 0.0485 - acc: 0.985 - ETA: 4s - loss: 0.0486 - acc: 0.985 - ETA: 4s - loss: 0.0485 - acc: 0.985 - ETA: 4s - loss: 0.0486 - acc: 0.985 - ETA: 4s - loss: 0.0486 - acc: 0.985 - ETA: 4s - loss: 0.0491 - acc: 0.985 - ETA: 4s - loss: 0.0491 - acc: 0.985 - ETA: 4s - loss: 0.0491 - acc: 0.985 - ETA: 4s - loss: 0.0490 - acc: 0.985 - ETA: 4s - loss: 0.0488 - acc: 0.985 - ETA: 4s - loss: 0.0489 - acc: 0.985 - ETA: 4s - loss: 0.0491 - acc: 0.985 - ETA: 4s - loss: 0.0489 - acc: 0.985 - ETA: 4s - loss: 0.0489 - acc: 0.985 - ETA: 4s - loss: 0.0487 - acc: 0.985 - ETA: 3s - loss: 0.0487 - acc: 0.985 - ETA: 3s - loss: 0.0488 - acc: 0.985 - ETA: 3s - loss: 0.0489 - acc: 0.985 - ETA: 3s - loss: 0.0492 - acc: 0.985 - ETA: 3s - loss: 0.0495 - acc: 0.985 - ETA: 3s - loss: 0.0493 - acc: 0.985 - ETA: 3s - loss: 0.0493 - acc: 0.985 - ETA: 3s - loss: 0.0491 - acc: 0.985 - ETA: 3s - loss: 0.0492 - acc: 0.985 - ETA: 3s - loss: 0.0491 - acc: 0.985 - ETA: 3s - loss: 0.0491 - acc: 0.985 - ETA: 3s - loss: 0.0490 - acc: 0.985 - ETA: 3s - loss: 0.0490 - acc: 0.985 - ETA: 3s - loss: 0.0489 - acc: 0.985 - ETA: 3s - loss: 0.0489 - acc: 0.985 - ETA: 3s - loss: 0.0488 - acc: 0.985 - ETA: 3s - loss: 0.0486 - acc: 0.985 - ETA: 3s - loss: 0.0487 - acc: 0.985 - ETA: 3s - loss: 0.0486 - acc: 0.985 - ETA: 3s - loss: 0.0486 - acc: 0.985 - ETA: 3s - loss: 0.0484 - acc: 0.985 - ETA: 3s - loss: 0.0483 - acc: 0.985 - ETA: 3s - loss: 0.0484 - acc: 0.985 - ETA: 3s - loss: 0.0486 - acc: 0.985 - ETA: 3s - loss: 0.0486 - acc: 0.985 - ETA: 2s - loss: 0.0490 - acc: 0.985 - ETA: 2s - loss: 0.0491 - acc: 0.985 - ETA: 2s - loss: 0.0490 - acc: 0.985 - ETA: 2s - loss: 0.0489 - acc: 0.985 - ETA: 2s - loss: 0.0490 - acc: 0.985 - ETA: 2s - loss: 0.0492 - acc: 0.985 - ETA: 2s - loss: 0.0495 - acc: 0.985 - ETA: 2s - loss: 0.0495 - acc: 0.985 - ETA: 2s - loss: 0.0495 - acc: 0.985 - ETA: 2s - loss: 0.0494 - acc: 0.985 - ETA: 2s - loss: 0.0495 - acc: 0.985 - ETA: 2s - loss: 0.0495 - acc: 0.985 - ETA: 2s - loss: 0.0496 - acc: 0.985 - ETA: 2s - loss: 0.0494 - acc: 0.985 - ETA: 2s - loss: 0.0492 - acc: 0.985 - ETA: 2s - loss: 0.0490 - acc: 0.985 - ETA: 2s - loss: 0.0492 - acc: 0.985 - ETA: 2s - loss: 0.0492 - acc: 0.985 - ETA: 2s - loss: 0.0492 - acc: 0.985 - ETA: 2s - loss: 0.0491 - acc: 0.985 - ETA: 2s - loss: 0.0491 - acc: 0.985 - ETA: 1s - loss: 0.0493 - acc: 0.985 - ETA: 1s - loss: 0.0493 - acc: 0.985 - ETA: 1s - loss: 0.0492 - acc: 0.985 - ETA: 1s - loss: 0.0493 - acc: 0.985 - ETA: 1s - loss: 0.0495 - acc: 0.985 - ETA: 1s - loss: 0.0493 - acc: 0.985 - ETA: 1s - loss: 0.0493 - acc: 0.985 - ETA: 1s - loss: 0.0493 - acc: 0.985 - ETA: 1s - loss: 0.0492 - acc: 0.985 - ETA: 1s - loss: 0.0491 - acc: 0.985 - ETA: 1s - loss: 0.0492 - acc: 0.985 - ETA: 1s - loss: 0.0493 - acc: 0.985 - ETA: 1s - loss: 0.0494 - acc: 0.985 - ETA: 1s - loss: 0.0493 - acc: 0.985 - ETA: 1s - loss: 0.0492 - acc: 0.985 - ETA: 1s - loss: 0.0491 - acc: 0.985 - ETA: 1s - loss: 0.0489 - acc: 0.985 - ETA: 1s - loss: 0.0489 - acc: 0.985 - ETA: 1s - loss: 0.0487 - acc: 0.985 - ETA: 1s - loss: 0.0486 - acc: 0.985 - ETA: 1s - loss: 0.0486 - acc: 0.985 - ETA: 1s - loss: 0.0488 - acc: 0.985 - ETA: 1s - loss: 0.0487 - acc: 0.985 - ETA: 0s - loss: 0.0488 - acc: 0.985 - ETA: 0s - loss: 0.0489 - acc: 0.985 - ETA: 0s - loss: 0.0488 - acc: 0.985 - ETA: 0s - loss: 0.0488 - acc: 0.985 - ETA: 0s - loss: 0.0486 - acc: 0.985 - ETA: 0s - loss: 0.0485 - acc: 0.985 - ETA: 0s - loss: 0.0485 - acc: 0.985 - ETA: 0s - loss: 0.0486 - acc: 0.985 - ETA: 0s - loss: 0.0485 - acc: 0.985 - ETA: 0s - loss: 0.0485 - acc: 0.985 - ETA: 0s - loss: 0.0487 - acc: 0.985 - ETA: 0s - loss: 0.0485 - acc: 0.985 - ETA: 0s - loss: 0.0484 - acc: 0.985 - ETA: 0s - loss: 0.0483 - acc: 0.985 - ETA: 0s - loss: 0.0484 - acc: 0.985 - 10s 172us/step - loss: 0.0484 - acc: 0.9857\n",
      "Epoch 5/5\n"
     ]
    },
    {
     "name": "stdout",
     "output_type": "stream",
     "text": [
      "60000/60000 [==============================] - ETA: 10s - loss: 0.0238 - acc: 0.99 - ETA: 11s - loss: 0.0277 - acc: 0.99 - ETA: 12s - loss: 0.0265 - acc: 0.99 - ETA: 13s - loss: 0.0247 - acc: 0.99 - ETA: 13s - loss: 0.0247 - acc: 0.99 - ETA: 12s - loss: 0.0247 - acc: 0.99 - ETA: 12s - loss: 0.0247 - acc: 0.99 - ETA: 12s - loss: 0.0250 - acc: 0.99 - ETA: 12s - loss: 0.0249 - acc: 0.99 - ETA: 12s - loss: 0.0279 - acc: 0.99 - ETA: 12s - loss: 0.0268 - acc: 0.99 - ETA: 12s - loss: 0.0302 - acc: 0.99 - ETA: 12s - loss: 0.0309 - acc: 0.99 - ETA: 12s - loss: 0.0298 - acc: 0.99 - ETA: 11s - loss: 0.0283 - acc: 0.99 - ETA: 11s - loss: 0.0282 - acc: 0.99 - ETA: 11s - loss: 0.0298 - acc: 0.99 - ETA: 11s - loss: 0.0305 - acc: 0.99 - ETA: 11s - loss: 0.0308 - acc: 0.99 - ETA: 11s - loss: 0.0318 - acc: 0.98 - ETA: 11s - loss: 0.0315 - acc: 0.98 - ETA: 11s - loss: 0.0330 - acc: 0.98 - ETA: 11s - loss: 0.0334 - acc: 0.98 - ETA: 11s - loss: 0.0332 - acc: 0.98 - ETA: 11s - loss: 0.0333 - acc: 0.98 - ETA: 11s - loss: 0.0337 - acc: 0.98 - ETA: 11s - loss: 0.0343 - acc: 0.98 - ETA: 11s - loss: 0.0342 - acc: 0.98 - ETA: 11s - loss: 0.0344 - acc: 0.98 - ETA: 10s - loss: 0.0346 - acc: 0.98 - ETA: 10s - loss: 0.0344 - acc: 0.98 - ETA: 10s - loss: 0.0345 - acc: 0.98 - ETA: 10s - loss: 0.0349 - acc: 0.98 - ETA: 10s - loss: 0.0348 - acc: 0.98 - ETA: 10s - loss: 0.0345 - acc: 0.98 - ETA: 10s - loss: 0.0350 - acc: 0.98 - ETA: 10s - loss: 0.0346 - acc: 0.98 - ETA: 9s - loss: 0.0346 - acc: 0.9891 - ETA: 9s - loss: 0.0343 - acc: 0.989 - ETA: 9s - loss: 0.0343 - acc: 0.989 - ETA: 9s - loss: 0.0344 - acc: 0.989 - ETA: 9s - loss: 0.0344 - acc: 0.989 - ETA: 9s - loss: 0.0339 - acc: 0.989 - ETA: 8s - loss: 0.0337 - acc: 0.989 - ETA: 8s - loss: 0.0331 - acc: 0.990 - ETA: 8s - loss: 0.0330 - acc: 0.990 - ETA: 8s - loss: 0.0329 - acc: 0.990 - ETA: 8s - loss: 0.0334 - acc: 0.989 - ETA: 8s - loss: 0.0331 - acc: 0.989 - ETA: 8s - loss: 0.0333 - acc: 0.989 - ETA: 8s - loss: 0.0329 - acc: 0.989 - ETA: 7s - loss: 0.0332 - acc: 0.989 - ETA: 7s - loss: 0.0335 - acc: 0.989 - ETA: 7s - loss: 0.0334 - acc: 0.989 - ETA: 7s - loss: 0.0333 - acc: 0.989 - ETA: 7s - loss: 0.0343 - acc: 0.989 - ETA: 7s - loss: 0.0340 - acc: 0.989 - ETA: 7s - loss: 0.0337 - acc: 0.989 - ETA: 7s - loss: 0.0336 - acc: 0.989 - ETA: 7s - loss: 0.0335 - acc: 0.989 - ETA: 7s - loss: 0.0337 - acc: 0.989 - ETA: 7s - loss: 0.0336 - acc: 0.989 - ETA: 7s - loss: 0.0334 - acc: 0.989 - ETA: 7s - loss: 0.0334 - acc: 0.989 - ETA: 7s - loss: 0.0331 - acc: 0.990 - ETA: 7s - loss: 0.0332 - acc: 0.989 - ETA: 7s - loss: 0.0332 - acc: 0.990 - ETA: 7s - loss: 0.0330 - acc: 0.990 - ETA: 7s - loss: 0.0331 - acc: 0.990 - ETA: 7s - loss: 0.0330 - acc: 0.990 - ETA: 7s - loss: 0.0333 - acc: 0.990 - ETA: 7s - loss: 0.0332 - acc: 0.990 - ETA: 6s - loss: 0.0330 - acc: 0.990 - ETA: 6s - loss: 0.0333 - acc: 0.990 - ETA: 6s - loss: 0.0332 - acc: 0.990 - ETA: 6s - loss: 0.0331 - acc: 0.990 - ETA: 6s - loss: 0.0331 - acc: 0.990 - ETA: 6s - loss: 0.0329 - acc: 0.990 - ETA: 6s - loss: 0.0332 - acc: 0.989 - ETA: 6s - loss: 0.0331 - acc: 0.989 - ETA: 6s - loss: 0.0330 - acc: 0.989 - ETA: 6s - loss: 0.0330 - acc: 0.989 - ETA: 6s - loss: 0.0330 - acc: 0.989 - ETA: 6s - loss: 0.0329 - acc: 0.989 - ETA: 6s - loss: 0.0329 - acc: 0.989 - ETA: 6s - loss: 0.0327 - acc: 0.990 - ETA: 6s - loss: 0.0328 - acc: 0.989 - ETA: 6s - loss: 0.0330 - acc: 0.989 - ETA: 6s - loss: 0.0330 - acc: 0.989 - ETA: 6s - loss: 0.0328 - acc: 0.989 - ETA: 6s - loss: 0.0326 - acc: 0.990 - ETA: 6s - loss: 0.0326 - acc: 0.990 - ETA: 6s - loss: 0.0324 - acc: 0.990 - ETA: 6s - loss: 0.0324 - acc: 0.990 - ETA: 6s - loss: 0.0322 - acc: 0.990 - ETA: 6s - loss: 0.0323 - acc: 0.990 - ETA: 6s - loss: 0.0323 - acc: 0.989 - ETA: 6s - loss: 0.0324 - acc: 0.989 - ETA: 6s - loss: 0.0324 - acc: 0.989 - ETA: 6s - loss: 0.0325 - acc: 0.989 - ETA: 6s - loss: 0.0325 - acc: 0.989 - ETA: 5s - loss: 0.0326 - acc: 0.989 - ETA: 5s - loss: 0.0325 - acc: 0.989 - ETA: 5s - loss: 0.0324 - acc: 0.989 - ETA: 5s - loss: 0.0323 - acc: 0.989 - ETA: 5s - loss: 0.0321 - acc: 0.989 - ETA: 5s - loss: 0.0322 - acc: 0.989 - ETA: 5s - loss: 0.0322 - acc: 0.989 - ETA: 5s - loss: 0.0322 - acc: 0.989 - ETA: 5s - loss: 0.0323 - acc: 0.989 - ETA: 5s - loss: 0.0325 - acc: 0.989 - ETA: 5s - loss: 0.0327 - acc: 0.989 - ETA: 5s - loss: 0.0327 - acc: 0.989 - ETA: 5s - loss: 0.0326 - acc: 0.989 - ETA: 5s - loss: 0.0329 - acc: 0.989 - ETA: 5s - loss: 0.0332 - acc: 0.989 - ETA: 5s - loss: 0.0332 - acc: 0.989 - ETA: 4s - loss: 0.0332 - acc: 0.989 - ETA: 4s - loss: 0.0331 - acc: 0.989 - ETA: 4s - loss: 0.0330 - acc: 0.989 - ETA: 4s - loss: 0.0330 - acc: 0.989 - ETA: 4s - loss: 0.0332 - acc: 0.989 - ETA: 4s - loss: 0.0333 - acc: 0.989 - ETA: 4s - loss: 0.0333 - acc: 0.989 - ETA: 4s - loss: 0.0334 - acc: 0.989 - ETA: 4s - loss: 0.0335 - acc: 0.989 - ETA: 4s - loss: 0.0337 - acc: 0.989 - ETA: 4s - loss: 0.0338 - acc: 0.989 - ETA: 4s - loss: 0.0337 - acc: 0.989 - ETA: 4s - loss: 0.0341 - acc: 0.989 - ETA: 3s - loss: 0.0340 - acc: 0.989 - ETA: 3s - loss: 0.0339 - acc: 0.989 - ETA: 3s - loss: 0.0338 - acc: 0.989 - ETA: 3s - loss: 0.0337 - acc: 0.989 - ETA: 3s - loss: 0.0338 - acc: 0.989 - ETA: 3s - loss: 0.0341 - acc: 0.989 - ETA: 3s - loss: 0.0342 - acc: 0.989 - ETA: 3s - loss: 0.0343 - acc: 0.989 - ETA: 3s - loss: 0.0343 - acc: 0.989 - ETA: 3s - loss: 0.0343 - acc: 0.989 - ETA: 3s - loss: 0.0343 - acc: 0.989 - ETA: 3s - loss: 0.0343 - acc: 0.989 - ETA: 3s - loss: 0.0345 - acc: 0.989 - ETA: 3s - loss: 0.0345 - acc: 0.989 - ETA: 3s - loss: 0.0345 - acc: 0.989 - ETA: 3s - loss: 0.0344 - acc: 0.989 - ETA: 2s - loss: 0.0347 - acc: 0.989 - ETA: 2s - loss: 0.0346 - acc: 0.989 - ETA: 2s - loss: 0.0344 - acc: 0.989 - ETA: 2s - loss: 0.0344 - acc: 0.989 - ETA: 2s - loss: 0.0347 - acc: 0.989 - ETA: 2s - loss: 0.0346 - acc: 0.989 - ETA: 2s - loss: 0.0348 - acc: 0.989 - ETA: 2s - loss: 0.0349 - acc: 0.989 - ETA: 2s - loss: 0.0349 - acc: 0.989 - ETA: 2s - loss: 0.0351 - acc: 0.989 - ETA: 2s - loss: 0.0353 - acc: 0.989 - ETA: 2s - loss: 0.0353 - acc: 0.989 - ETA: 2s - loss: 0.0354 - acc: 0.989 - ETA: 2s - loss: 0.0356 - acc: 0.989 - ETA: 2s - loss: 0.0356 - acc: 0.989 - ETA: 1s - loss: 0.0356 - acc: 0.989 - ETA: 1s - loss: 0.0356 - acc: 0.989 - ETA: 1s - loss: 0.0357 - acc: 0.989 - ETA: 1s - loss: 0.0358 - acc: 0.989 - ETA: 1s - loss: 0.0360 - acc: 0.989 - ETA: 1s - loss: 0.0360 - acc: 0.989 - ETA: 1s - loss: 0.0360 - acc: 0.988 - ETA: 1s - loss: 0.0359 - acc: 0.989 - ETA: 1s - loss: 0.0360 - acc: 0.989 - ETA: 1s - loss: 0.0360 - acc: 0.989 - ETA: 1s - loss: 0.0360 - acc: 0.988 - ETA: 1s - loss: 0.0359 - acc: 0.988 - ETA: 1s - loss: 0.0361 - acc: 0.988 - ETA: 0s - loss: 0.0361 - acc: 0.988 - ETA: 0s - loss: 0.0361 - acc: 0.988 - ETA: 0s - loss: 0.0360 - acc: 0.988 - ETA: 0s - loss: 0.0361 - acc: 0.988 - ETA: 0s - loss: 0.0364 - acc: 0.988 - ETA: 0s - loss: 0.0364 - acc: 0.988 - ETA: 0s - loss: 0.0363 - acc: 0.988 - ETA: 0s - loss: 0.0363 - acc: 0.988 - ETA: 0s - loss: 0.0363 - acc: 0.988 - ETA: 0s - loss: 0.0362 - acc: 0.988 - ETA: 0s - loss: 0.0364 - acc: 0.988 - ETA: 0s - loss: 0.0365 - acc: 0.988 - ETA: 0s - loss: 0.0367 - acc: 0.988 - ETA: 0s - loss: 0.0368 - acc: 0.988 - 11s 184us/step - loss: 0.0367 - acc: 0.9887\n"
     ]
    },
    {
     "data": {
      "text/plain": [
       "<keras.callbacks.History at 0x2b7e022f6d8>"
      ]
     },
     "execution_count": 84,
     "metadata": {},
     "output_type": "execute_result"
    }
   ],
   "source": [
    "network.fit(train_images, \n",
    "            train_labels, epochs=5, \n",
    "            batch_size=128)"
   ]
  },
  {
   "cell_type": "code",
   "execution_count": 85,
   "metadata": {},
   "outputs": [
    {
     "name": "stdout",
     "output_type": "stream",
     "text": [
      "10000/10000 [==============================] - ETA: 1: - ETA: 4s - ETA:  - ETA:  - ETA:  - ETA:  - ETA:  - ETA:  - ETA:  - ETA:  - ETA:  - ETA:  - ETA:  - ETA:  - ETA:  - ETA:  - ETA:  - ETA:  - 1s 112us/step\n"
     ]
    },
    {
     "data": {
      "text/plain": [
       "0.9799"
      ]
     },
     "execution_count": 85,
     "metadata": {},
     "output_type": "execute_result"
    }
   ],
   "source": [
    "test_loss, test_acc = network.evaluate(test_images, test_labels)\n",
    "\n",
    "test_acc"
   ]
  },
  {
   "cell_type": "code",
   "execution_count": 110,
   "metadata": {
    "scrolled": true
   },
   "outputs": [
    {
     "name": "stdout",
     "output_type": "stream",
     "text": [
      "[[1.6806646e-11 5.1792620e-07 9.9999940e-01 1.7398590e-07 3.7506309e-18\n",
      "  9.7856057e-10 2.1681708e-10 1.4015959e-15 3.5092111e-08 5.8823080e-15]]\n",
      "2\n"
     ]
    },
    {
     "data": {
      "image/png": "[encoded data removed]",
      "text/plain": [
       "<Figure size 432x288 with 1 Axes>"
      ]
     },
     "metadata": {
      "image/png": {
       "height": 250,
       "width": 253
      },
      "needs_background": "light"
     },
     "output_type": "display_data"
    }
   ],
   "source": [
    "plt.imshow(test_images[1].reshape(28, 28),cmap='Greys')\n",
    "pred = network.predict(test_images[1].reshape(1,784))\n",
    "print(pred)#.argmax())\n",
    "print(pred.argmax())"
   ]
  },
  {
   "cell_type": "code",
   "execution_count": null,
   "metadata": {},
   "outputs": [],
   "source": []
  }
 ],
 "metadata": {
  "kernelspec": {
   "display_name": "Python 3",
   "language": "python",
   "name": "python3"
  },
  "language_info": {
   "codemirror_mode": {
    "name": "ipython",
    "version": 3
   },
   "file_extension": ".py",
   "mimetype": "text/x-python",
   "name": "python",
   "nbconvert_exporter": "python",
   "pygments_lexer": "ipython3",
   "version": "3.7.1"
  }
 },
 "nbformat": 4,
 "nbformat_minor": 2
}
